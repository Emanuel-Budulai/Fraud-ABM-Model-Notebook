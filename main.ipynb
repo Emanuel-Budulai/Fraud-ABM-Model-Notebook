{
 "cells": [
  {
   "cell_type": "markdown",
   "id": "c45e3df7-52a7-406c-94bb-3b46bbaea5e7",
   "metadata": {},
   "source": [
    "<style>\n",
    "ol > ol {\n",
    "    list-style-type: decimal !important;\n",
    "}\n",
    "    \n",
    "ol > ol > ol {\n",
    "    list-style-type: decimal !important;\n",
    "}\n",
    "</style>"
   ]
  },
  {
   "cell_type": "markdown",
   "id": "f0f82438-098d-4fcd-8159-dc57789f513a",
   "metadata": {},
   "source": [
    "<a name=\"cell-TOC\"></a>\n",
    "\n",
    "# Simulation of Transactional Data Using Agent-Based Models for Fraud Analysis in Personal Banking\n",
    "### Table of Contents\n",
    "0. [Motivation](#cell-motivation)<br>\n",
    "1. [An Introduction and Overview of Agent Based Modelling (ABM)](#cell-introduction-overview-abm)<br>\n",
    "\n",
    "   > 1.0. [A Caveat to Mathematical Modelling](#cell-caveat-math-modelling)<br>\n",
    "   > 1.1. [Intuition Behind ABMs](#cell-intuition-abms)<br>\n",
    "   > 1.2. [Applications](#cell-applications)<br>\n",
    "   > 1.3. [Some Technical Details](#cell-technical-details)<br>\n",
    "   >> 1.3.1. [Aside: Stochasticity, Lotka-Volterra, and ABMs as Mathematical Tools for Systems Analysis](#cell-aside-stochasticity-lotka-volterra)<br>\n",
    "\n",
    "   > 1.4. [Model Assumptions and Requirements](#cell-model-assumptions-requirements)<br>\n",
    "   > 1.5. [Analysis of ABM Algorithms](#cell-analysis-abm-algorithms)<br>\n",
    "   > 1.6. [Implementation](#cell-implementation)<br>\n",
    "   >> 1.7.1. [A Note on Programming Languages](#cell-note-programming-languages)<br>\n",
    "\n",
    "2. [Using an ABM to Create a Simulation of Customer Transactions](#cell-abm-simulation)<br>\n",
    "\n",
    "   > 2.1. [Formal Definitions](#cell-formal-definitions)<br>\n",
    "   > 2.2. [Modelling Fraudulent Behaviour](#cell-modelling-fraudulent-behaviour)<br>\n",
    "   > 2.3. [Other Set Up](#cell-other-set-up)<br>\n",
    "   > 2.4. [Creating an SQL Output](#cell-creating-an-sql-output)<br>\n",
    "   > 2.5. [Running the Model](#cell-running-model)<br>\n",
    "   > 2.6. [Tuning the Model](#cell-tuning-model)<br>\n",
    "   > 2.7. [Analysis of the Results (Key Insights, Stats, and Visualizations)](#cell-analysis-results)<br>\n",
    "   > 2.8. [Moving to C using ChatGPT](#cell-moving-c-chatgpt)<br>\n",
    "   >> 2.8.1. [Designing the Software](#cell-designing-software)<br>\n",
    "   >> 2.8.2. [Code](#cell-code)<br>\n",
    "   >> 2.8.3. [Run-time Difference](#cell-runtime-difference)<br>\n",
    "\n",
    "   > 2.9. [Drawbacks and Future Steps](#cell-drawbacks-future-steps)<br>\n",
    "\n",
    "3. [Further Reading](#cell-further-reading)<br>\n",
    "4. [Some Animations](#cell-some-animations)<br>\n",
    "5. [Video](#cell-video)<br>\n",
    "6. [Bibliography](#cell-bibliography)"
   ]
  },
  {
   "cell_type": "markdown",
   "id": "3402aff2-e835-478b-8acb-cc75d4d3959e",
   "metadata": {},
   "source": [
    "<a name=\"cell-motivation\"></a>\n",
    "# 0. Motivation ([Return to TOC](#cell-TOC))\n",
    "***\n",
    "Summary:<br>\n",
    "Deliverable:<br>\n",
    "Deadline for Deliverable:<br>"
   ]
  },
  {
   "cell_type": "markdown",
   "id": "434e19cf-eedf-4297-b073-8f9d940ca761",
   "metadata": {},
   "source": [
    "<a name=\"cell-introduction-overview-abm\"></a>\n",
    "# 1. An Introduction and Overview of Agent Based Modelling (ABM) ([Return to TOC](#cell-TOC)) \n",
    "***\n",
    "Summary:<br>\n",
    "Deliverable:<br>\n",
    "Deadline for Deliverable:<br>"
   ]
  },
  {
   "cell_type": "markdown",
   "id": "924b6321-3700-4283-946d-ccf116945668",
   "metadata": {},
   "source": [
    "<a name=\"cell-caveat-math-modelling\"></a>\n",
    "## 1.0. A Caveat to Mathematical Modelling ([Return to TOC](#cell-TOC)) \n",
    "***\n",
    "Summary:<br>\n",
    "Deliverable:<br>\n",
    "Deadline for Deliverable:<br>"
   ]
  },
  {
   "cell_type": "markdown",
   "id": "24bb9372-b32b-46ad-bc03-e4ebf99130ee",
   "metadata": {},
   "source": [
    "<a name=\"cell-intuition-abms\"></a>\n",
    "## 1.1. Intuition Behind ABMs ([Return to TOC](#cell-TOC)) \n",
    "***\n",
    "Summary:<br>\n",
    "Deliverable:<br>\n",
    "Deadline for Deliverable:<br>"
   ]
  },
  {
   "cell_type": "markdown",
   "id": "feca27f3-5adb-4943-9c76-8bfc3ce7b276",
   "metadata": {
    "jp-MarkdownHeadingCollapsed": true,
    "tags": []
   },
   "source": [
    "<a name=\"cell-applications\"></a>\n",
    "## 1.2. Applications ([Return to TOC](#cell-TOC)) \n",
    "***\n",
    "Summary:<br>\n",
    "Deliverable:<br>\n",
    "Deadline for Deliverable:<br>"
   ]
  },
  {
   "cell_type": "markdown",
   "id": "2356c98a-95d3-44fb-87c6-1e996476a732",
   "metadata": {},
   "source": [
    "<a name=\"cell-technical-details\"></a>\n",
    "## 1.3. Some Technical Details ([Return to TOC](#cell-TOC)) \n",
    "***\n",
    "Summary:<br>\n",
    "Deliverable:<br>\n",
    "Deadline for Deliverable:<br>"
   ]
  },
  {
   "cell_type": "markdown",
   "id": "2449b179-dcc9-4888-b182-2a316ebde1d0",
   "metadata": {},
   "source": [
    "<a name=\"cell-aside-stochasticity-lotka-volterra\"></a>\n",
    "### 1.3.1. Aside: Stochasticity, Lotka-Volterra, and ABMs as Mathematical Tools for Systems Analysis ([Return to TOC](#cell-TOC)) \n",
    "***\n",
    "Summary:<br>\n",
    "Deliverable:<br>\n",
    "Deadline for Deliverable:<br>"
   ]
  },
  {
   "cell_type": "markdown",
   "id": "0fa99b76-8aea-44c3-9b00-562a1d0c1d31",
   "metadata": {},
   "source": [
    "<a name=\"cell-model-assumptions-requirements\"></a>\n",
    "## 1.4. Model Assumptions and Requirements ([Return to TOC](#cell-TOC)) \n",
    "***\n",
    "Summary:<br>\n",
    "Deliverable:<br>\n",
    "Deadline for Deliverable:<br>"
   ]
  },
  {
   "cell_type": "markdown",
   "id": "46a5db90-bb37-44a1-84f1-9d38420815e6",
   "metadata": {},
   "source": [
    "<a name=\"cell-analysis-abm-algorithms\"></a>\n",
    "## 1.5. Analysis of ABM Algorithms ([Return to TOC](#cell-TOC)) \n",
    "***\n",
    "Summary:<br>\n",
    "Deliverable:<br>\n",
    "Deadline for Deliverable:<br>"
   ]
  },
  {
   "cell_type": "markdown",
   "id": "7cc19982-0dc6-47d1-8bd8-a246aedc0f80",
   "metadata": {},
   "source": [
    "<a name=\"cell-implementation\"></a>\n",
    "## 1.6. Implementation ([Return to TOC](#cell-TOC)) \n",
    "***\n",
    "Summary:<br>\n",
    "Deliverable:<br>\n",
    "Deadline for Deliverable:<br>"
   ]
  },
  {
   "cell_type": "markdown",
   "id": "21aedca2-33ec-4d03-878e-9c5ca372b27d",
   "metadata": {},
   "source": [
    "<a name=\"cell-note-programming-languages\"></a>\n",
    "### 1.6.1. A Note on Programming Languages ([Return to TOC](#cell-TOC)) \n",
    "***\n",
    "Summary:<br>\n",
    "Deliverable:<br>\n",
    "Deadline for Deliverable:<br>"
   ]
  },
  {
   "cell_type": "markdown",
   "id": "dcacc7d9-de58-448c-8ed0-42f914daf3b4",
   "metadata": {},
   "source": [
    "<a name=\"cell-abm-simulation\"></a>\n",
    "# 2. Using an ABM to Create a Simulation of Customer Transactions ([Return to TOC](#cell-TOC)) \n",
    "***\n",
    "Summary:<br>\n",
    "Deliverable:<br>\n",
    "Deadline for Deliverable:<br>"
   ]
  },
  {
   "cell_type": "markdown",
   "id": "98f56a9a-6e4e-4717-9891-f242f261b952",
   "metadata": {},
   "source": [
    "<a name=\"cell-formal-definitions\"></a>\n",
    "## 2.1. Formal Definitions ([Return to TOC](#cell-TOC)) \n",
    "***\n",
    "Summary:<br>\n",
    "Deliverable:<br>\n",
    "Deadline for Deliverable:<br>"
   ]
  },
  {
   "cell_type": "markdown",
   "id": "5cc8c10b-33f0-4c0f-a7c8-c4a4d918ca4e",
   "metadata": {},
   "source": [
    "<a name=\"cell-modelling-fraudulent-behaviour\"></a>\n",
    "## 2.2. Modelling Fraudulent Behaviour ([Return to TOC](#cell-TOC)) \n",
    "***\n",
    "Summary:<br>\n",
    "Deliverable:<br>\n",
    "Deadline for Deliverable:<br>"
   ]
  },
  {
   "cell_type": "markdown",
   "id": "c44e5ff4-48bd-4515-84bf-484476137ade",
   "metadata": {},
   "source": [
    "<a name=\"cell-other-set-up\"></a>\n",
    "## 2.3. Other Set Up ([Return to TOC](#cell-TOC)) \n",
    "***\n",
    "Summary:<br>\n",
    "Deliverable:<br>\n",
    "Deadline for Deliverable:<br>"
   ]
  },
  {
   "cell_type": "markdown",
   "id": "0856f37a-d0b3-4590-b95c-ff3435588780",
   "metadata": {},
   "source": [
    "<a name=\"cell-creating-an-sql-output\"></a>\n",
    "## 2.4. Creating an SQL Output ([Return to TOC](#cell-TOC)) \n",
    "***\n",
    "Summary:<br>\n",
    "Deliverable:<br>\n",
    "Deadline for Deliverable:<br>"
   ]
  },
  {
   "cell_type": "markdown",
   "id": "02d2cf94-e0eb-46d9-ba17-ef8384157bb3",
   "metadata": {},
   "source": [
    "<a name=\"cell-running-model\"></a>\n",
    "## 2.5. Running the Model ([Return to TOC](#cell-TOC)) \n",
    "***\n",
    "Summary:<br>\n",
    "Deliverable:<br>\n",
    "Deadline for Deliverable:<br>"
   ]
  },
  {
   "cell_type": "markdown",
   "id": "41e571be-7740-451e-9579-c4ede76b8f20",
   "metadata": {},
   "source": [
    "<a name=\"cell-tuning-model\"></a>\n",
    "## 2.6. Tuning the Model ([Return to TOC](#cell-TOC)) \n",
    "***\n",
    "Summary:<br>\n",
    "Deliverable:<br>\n",
    "Deadline for Deliverable:<br>"
   ]
  },
  {
   "cell_type": "markdown",
   "id": "73c429fb-cb12-427c-860a-a42db09ba789",
   "metadata": {},
   "source": [
    "<a name=\"cell-analysis-results\"></a>\n",
    "## 2.7. Analysis of the Results (Key Insights, Stats, and Visualizations) ([Return to TOC](#cell-TOC)) \n",
    "***\n",
    "Summary:<br>\n",
    "Deliverable:<br>\n",
    "Deadline for Deliverable:<br>"
   ]
  },
  {
   "cell_type": "markdown",
   "id": "000c5a95-c570-4c48-8ce2-2d993154ffc6",
   "metadata": {},
   "source": [
    "<a name=\"cell-moving-c-chatgpt\"></a>\n",
    "## 2.8. Moving to C using ChatGPT ([Return to TOC](#cell-TOC)) \n",
    "***\n",
    "Summary:<br>\n",
    "Deliverable:<br>\n",
    "Deadline for Deliverable:<br>"
   ]
  },
  {
   "cell_type": "markdown",
   "id": "3631c505-a4c2-4ed9-8342-6e8b6fc63b0a",
   "metadata": {},
   "source": [
    "<a name=\"cell-designing-software\"></a>\n",
    "### 2.8.1. Designing the Software ([Return to TOC](#cell-TOC)) \n",
    "***\n",
    "Summary:<br>\n",
    "Deliverable:<br>\n",
    "Deadline for Deliverable:<br>"
   ]
  },
  {
   "cell_type": "markdown",
   "id": "d107536d-844b-4155-98a4-a4834993d67b",
   "metadata": {},
   "source": [
    "<a name=\"cell-code\"></a>\n",
    "### 2.8.2. Code ([Return to TOC](#cell-TOC)) \n",
    "***\n",
    "Summary:<br>\n",
    "Deliverable:<br>\n",
    "Deadline for Deliverable:<br>"
   ]
  },
  {
   "cell_type": "markdown",
   "id": "cc855a21-c6f7-40f5-893f-2192237c2287",
   "metadata": {},
   "source": [
    "<a name=\"cell-runtime-difference\"></a>\n",
    "### 2.8.3. Run-time Difference ([Return to TOC](#cell-TOC)) \n",
    "***\n",
    "Summary:<br>\n",
    "Deliverable:<br>\n",
    "Deadline for Deliverable:<br>"
   ]
  },
  {
   "cell_type": "markdown",
   "id": "4d166d76-9a75-45ad-8335-e90eb814d011",
   "metadata": {},
   "source": [
    "<a name=\"cell-further-reading\"></a>\n",
    "# 3. Further Reading ([Return to TOC](#cell-TOC)) \n",
    "***\n",
    "Summary:<br>\n",
    "Deliverable:<br>\n",
    "Deadline for Deliverable:<br>"
   ]
  },
  {
   "cell_type": "markdown",
   "id": "bf6f5323-18c6-491c-a676-9b81ceb8843a",
   "metadata": {},
   "source": [
    "<a name=\"cell-some-animations\"></a>\n",
    "# 4. Some Animations ([Return to TOC](#cell-TOC)) \n",
    "***\n",
    "Summary:<br>\n",
    "Deliverable:<br>\n",
    "Deadline for Deliverable:<br>"
   ]
  },
  {
   "cell_type": "markdown",
   "id": "94537d4a-4119-4b75-8a99-9eb8106abd18",
   "metadata": {},
   "source": [
    "<a name=\"cell-video\"></a>\n",
    "# 5. Video ([Return to TOC](#cell-TOC)) \n",
    "***\n",
    "Summary:<br>\n",
    "Deliverable:<br>\n",
    "Deadline for Deliverable:<br>"
   ]
  },
  {
   "cell_type": "markdown",
   "id": "1dbdb542-de29-497c-a097-792be5391f1d",
   "metadata": {},
   "source": [
    "<a name=\"cell-bibliography\"></a>\n",
    "# 6. Bibliography ([Return to TOC](#cell-TOC)) \n",
    "***\n",
    "Summary:<br>\n",
    "Deliverable:<br>\n",
    "Deadline for Deliverable:<br>"
   ]
  }
 ],
 "metadata": {
  "kernelspec": {
   "display_name": "Python 3 (ipykernel)",
   "language": "python",
   "name": "python3"
  },
  "language_info": {
   "codemirror_mode": {
    "name": "ipython",
    "version": 3
   },
   "file_extension": ".py",
   "mimetype": "text/x-python",
   "name": "python",
   "nbconvert_exporter": "python",
   "pygments_lexer": "ipython3",
   "version": "3.9.7"
  }
 },
 "nbformat": 4,
 "nbformat_minor": 5
}
